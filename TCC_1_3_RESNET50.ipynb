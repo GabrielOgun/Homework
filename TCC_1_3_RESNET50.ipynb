{
  "nbformat": 4,
  "nbformat_minor": 0,
  "metadata": {
    "colab": {
      "provenance": [],
      "machine_shape": "hm",
      "gpuType": "A100",
      "authorship_tag": "ABX9TyNkwJ/dmdUj6/UmWeselXPr"
    },
    "kernelspec": {
      "name": "python3",
      "display_name": "Python 3"
    },
    "language_info": {
      "name": "python"
    },
    "accelerator": "GPU"
  },
  "cells": [
    {
      "cell_type": "markdown",
      "source": [
        "importando drive"
      ],
      "metadata": {
        "id": "sS7yrDxFHVbn"
      }
    },
    {
      "cell_type": "code",
      "execution_count": 2,
      "metadata": {
        "colab": {
          "base_uri": "https://localhost:8080/"
        },
        "id": "qeG4K1pwyFeP",
        "outputId": "fd9b501f-449b-43fe-a590-d563a4fed5d9"
      },
      "outputs": [
        {
          "output_type": "stream",
          "name": "stdout",
          "text": [
            "Drive already mounted at /content/drive; to attempt to forcibly remount, call drive.mount(\"/content/drive\", force_remount=True).\n"
          ]
        }
      ],
      "source": [
        "from pydrive2.auth import GoogleAuth\n",
        "from pydrive2.drive import GoogleDrive\n",
        "from google.colab import auth\n",
        "from oauth2client.client import GoogleCredentials\n",
        "from google.colab import drive\n",
        "drive.mount('/content/drive')"
      ]
    },
    {
      "cell_type": "code",
      "source": [
        "auth.authenticate_user()\n",
        "gauth = GoogleAuth()\n",
        "gauth.credentials = GoogleCredentials.get_application_default()\n",
        "drive = GoogleDrive(gauth)"
      ],
      "metadata": {
        "id": "PHVWAKTSGWFu"
      },
      "execution_count": 3,
      "outputs": []
    },
    {
      "cell_type": "code",
      "source": [
        "import matplotlib.pyplot as plt\n",
        "import numpy as np\n",
        "import os\n",
        "import PIL\n",
        "import tensorflow as tf\n",
        "import pandas as pd\n",
        "import seaborn as sns\n",
        "import pathlib\n",
        "\n",
        "\n",
        "from tensorflow import keras\n",
        "from tensorflow.keras import layers\n",
        "from tensorflow.keras.models import Sequential\n",
        "from tensorflow.keras.layers import Conv2D, MaxPool2D # Updated import statements\n",
        "from keras.preprocessing.image import ImageDataGenerator\n",
        "from sklearn.metrics import classification_report, confusion_matrix\n",
        "from keras.callbacks import ModelCheckpoint, ReduceLROnPlateau\n",
        "from tensorflow.keras import regularizers\n",
        "from keras import metrics"
      ],
      "metadata": {
        "id": "-KLPePQyD1kJ"
      },
      "execution_count": 4,
      "outputs": []
    },
    {
      "cell_type": "code",
      "source": [
        "data_dir = pathlib.Path(\"/content/drive/MyDrive/TCC_DOCS/images\")\n",
        "print(data_dir)"
      ],
      "metadata": {
        "colab": {
          "base_uri": "https://localhost:8080/"
        },
        "id": "5XqugofvIsbk",
        "outputId": "234d2179-743d-4abd-814a-d9861864e306"
      },
      "execution_count": 5,
      "outputs": [
        {
          "output_type": "stream",
          "name": "stdout",
          "text": [
            "/content/drive/MyDrive/TCC_DOCS/images\n"
          ]
        }
      ]
    },
    {
      "cell_type": "code",
      "source": [
        "#resnet50"
      ],
      "metadata": {
        "id": "bW_FZu_aJXss"
      },
      "execution_count": null,
      "outputs": []
    },
    {
      "cell_type": "code",
      "source": [
        "resnet50_img_size = 100\n",
        "resnet50_batch_size = 150\n",
        "\n",
        "resnet50_train_ds = tf.keras.preprocessing.image_dataset_from_directory(\n",
        "    data_dir,\n",
        "    seed=123,\n",
        "    image_size=(resnet50_img_size, resnet50_img_size),\n",
        "    batch_size=resnet50_batch_size)\n",
        "\n",
        "resnet50_val_ds = tf.keras.preprocessing.image_dataset_from_directory(\n",
        "    data_dir,\n",
        "    validation_split=0.2,\n",
        "    subset=\"validation\",\n",
        "    seed=123,\n",
        "    image_size=(resnet50_img_size,resnet50_img_size),\n",
        "    batch_size=resnet50_batch_size)\n",
        "\n",
        "resnet50_test_ds = tf.keras.preprocessing.image_dataset_from_directory(\n",
        "    data_dir,\n",
        "    seed=123,\n",
        "    image_size=(resnet50_img_size,resnet50_img_size),\n",
        "    batch_size=resnet50_batch_size)\n",
        "\n",
        "class_names = resnet50_test_ds.class_names"
      ],
      "metadata": {
        "colab": {
          "base_uri": "https://localhost:8080/"
        },
        "id": "Lltwd-11JbRz",
        "outputId": "bab08891-cd38-49f1-997c-043bf0a7eeba"
      },
      "execution_count": 7,
      "outputs": [
        {
          "output_type": "stream",
          "name": "stdout",
          "text": [
            "Found 47813 files belonging to 5 classes.\n",
            "Found 47813 files belonging to 5 classes.\n",
            "Using 9562 files for validation.\n",
            "Found 47813 files belonging to 5 classes.\n"
          ]
        }
      ]
    },
    {
      "cell_type": "code",
      "source": [
        "for image_batch, labels_batch in resnet50_train_ds:\n",
        "  resnet50_train_img = image_batch\n",
        "  resnet50_train_labels = labels_batch\n",
        "  break\n",
        "for image_batch, labels_batch in resnet50_val_ds:\n",
        "  resnet50_val_img = image_batch\n",
        "  resnet50_val_labels = labels_batch\n",
        "  break\n",
        "for image_batch, labels_batch in resnet50_test_ds:\n",
        "  resnet50_test_img = image_batch\n",
        "  resnet50_test_labels = labels_batch\n",
        "  break"
      ],
      "metadata": {
        "id": "hg9bVF4mLnLY"
      },
      "execution_count": 8,
      "outputs": []
    },
    {
      "cell_type": "code",
      "source": [
        "AUTOTUNE = tf.data.AUTOTUNE\n",
        "\n",
        "resnet50_train_ds = resnet50_train_ds.cache().shuffle(1000).prefetch(buffer_size=AUTOTUNE)\n",
        "resnet50_val_ds = resnet50_val_ds.cache().prefetch(buffer_size=AUTOTUNE)\n",
        "resnet50_test_ds = resnet50_test_ds.cache().prefetch(buffer_size=AUTOTUNE)"
      ],
      "metadata": {
        "id": "3ERpblfqMsiC"
      },
      "execution_count": 9,
      "outputs": []
    },
    {
      "cell_type": "code",
      "source": [
        "data_augmentation = keras.Sequential(\n",
        "  [\n",
        "    layers.experimental.preprocessing.RandomFlip(\"horizontal\",\n",
        "                                                 input_shape=(resnet50_img_size,\n",
        "                                                              resnet50_img_size,\n",
        "                                                              3)),\n",
        "    layers.experimental.preprocessing.RandomRotation(0.2),\n",
        "    layers.experimental.preprocessing.RandomZoom(0.2),\n",
        "  ]\n",
        ")"
      ],
      "metadata": {
        "id": "ohdIoAOeM1_M"
      },
      "execution_count": 10,
      "outputs": []
    },
    {
      "cell_type": "code",
      "source": [
        "#Restnet50\n",
        "img_shape = (resnet50_img_size,resnet50_img_size,3)\n",
        "Resnet50_model = tf.keras.applications.ResNet50(\n",
        "    include_top=False,\n",
        "    weights=\"imagenet\",\n",
        "    input_shape=img_shape,\n",
        "    pooling='avg',\n",
        "    classes=5,\n",
        ")\n",
        "prediction_layer = tf.keras.layers.Dense(5,activation='relu',bias_regularizer=regularizers.l2(1e-4))"
      ],
      "metadata": {
        "colab": {
          "base_uri": "https://localhost:8080/"
        },
        "id": "zbCa5GuEM5FQ",
        "outputId": "c574549e-7b63-46c3-ce54-95949ab9ec7d"
      },
      "execution_count": 11,
      "outputs": [
        {
          "output_type": "stream",
          "name": "stdout",
          "text": [
            "Downloading data from https://storage.googleapis.com/tensorflow/keras-applications/resnet/resnet50_weights_tf_dim_ordering_tf_kernels_notop.h5\n",
            "94765736/94765736 [==============================] - 1s 0us/step\n"
          ]
        }
      ]
    },
    {
      "cell_type": "code",
      "source": [
        "num_classes = 5\n",
        "resnet50_model = Sequential([\n",
        "    data_augmentation,\n",
        "    Resnet50_model,\n",
        "    prediction_layer,\n",
        "    layers.Flatten(),\n",
        "    layers.BatchNormalization(),\n",
        "    layers.Activation('softmax'),\n",
        "])"
      ],
      "metadata": {
        "id": "wpEUrOHTM-dz"
      },
      "execution_count": 12,
      "outputs": []
    },
    {
      "cell_type": "code",
      "source": [
        "resnet50_model.compile(optimizer='adam',loss=tf.keras.losses.SparseCategoricalCrossentropy(from_logits=True),metrics=['accuracy'])"
      ],
      "metadata": {
        "id": "kEH0skElNBEY"
      },
      "execution_count": 13,
      "outputs": []
    },
    {
      "cell_type": "code",
      "source": [
        "epochs = 50\n",
        "history = resnet50_model.fit(\n",
        "  resnet50_train_ds,\n",
        "  validation_data=resnet50_val_ds,\n",
        "  epochs=epochs\n",
        ")"
      ],
      "metadata": {
        "colab": {
          "base_uri": "https://localhost:8080/"
        },
        "id": "IzIbFTbpNDfg",
        "outputId": "f9121839-8124-4060-b7fb-76ebe1c7d8ee"
      },
      "execution_count": 14,
      "outputs": [
        {
          "output_type": "stream",
          "name": "stdout",
          "text": [
            "Epoch 1/50\n"
          ]
        },
        {
          "output_type": "stream",
          "name": "stderr",
          "text": [
            "/usr/local/lib/python3.10/dist-packages/keras/src/backend.py:5727: UserWarning: \"`sparse_categorical_crossentropy` received `from_logits=True`, but the `output` argument was produced by a Softmax activation and thus does not represent logits. Was this intended?\n",
            "  output, from_logits = _get_logits(\n"
          ]
        },
        {
          "output_type": "stream",
          "name": "stdout",
          "text": [
            "319/319 [==============================] - 2861s 349ms/step - loss: 1.0045 - accuracy: 0.7476 - val_loss: 0.9538 - val_accuracy: 0.7052\n",
            "Epoch 2/50\n",
            "319/319 [==============================] - 69s 218ms/step - loss: 0.7757 - accuracy: 0.7863 - val_loss: 0.9755 - val_accuracy: 0.6927\n",
            "Epoch 3/50\n",
            "319/319 [==============================] - 69s 217ms/step - loss: 0.6664 - accuracy: 0.7972 - val_loss: 0.7397 - val_accuracy: 0.7495\n",
            "Epoch 4/50\n",
            "319/319 [==============================] - 69s 217ms/step - loss: 0.6041 - accuracy: 0.8044 - val_loss: 0.8013 - val_accuracy: 0.7669\n",
            "Epoch 5/50\n",
            "319/319 [==============================] - 69s 217ms/step - loss: 0.5629 - accuracy: 0.8109 - val_loss: 0.7838 - val_accuracy: 0.7422\n",
            "Epoch 6/50\n",
            "319/319 [==============================] - 69s 217ms/step - loss: 0.5322 - accuracy: 0.8153 - val_loss: 0.6873 - val_accuracy: 0.7491\n",
            "Epoch 7/50\n",
            "319/319 [==============================] - 69s 217ms/step - loss: 0.5104 - accuracy: 0.8213 - val_loss: 0.6571 - val_accuracy: 0.7767\n",
            "Epoch 8/50\n",
            "319/319 [==============================] - 69s 217ms/step - loss: 0.4910 - accuracy: 0.8245 - val_loss: 0.5522 - val_accuracy: 0.8072\n",
            "Epoch 9/50\n",
            "319/319 [==============================] - 69s 217ms/step - loss: 0.4753 - accuracy: 0.8282 - val_loss: 0.7770 - val_accuracy: 0.7476\n",
            "Epoch 10/50\n",
            "319/319 [==============================] - 69s 217ms/step - loss: 0.4642 - accuracy: 0.8316 - val_loss: 0.6152 - val_accuracy: 0.7804\n",
            "Epoch 11/50\n",
            "319/319 [==============================] - 69s 217ms/step - loss: 0.4484 - accuracy: 0.8369 - val_loss: 0.5505 - val_accuracy: 0.8024\n",
            "Epoch 12/50\n",
            "319/319 [==============================] - 69s 217ms/step - loss: 0.4373 - accuracy: 0.8404 - val_loss: 0.6160 - val_accuracy: 0.7743\n",
            "Epoch 13/50\n",
            "319/319 [==============================] - 69s 217ms/step - loss: 0.4268 - accuracy: 0.8428 - val_loss: 0.5336 - val_accuracy: 0.8040\n",
            "Epoch 14/50\n",
            "319/319 [==============================] - 69s 217ms/step - loss: 0.4149 - accuracy: 0.8468 - val_loss: 0.7143 - val_accuracy: 0.7512\n",
            "Epoch 15/50\n",
            "319/319 [==============================] - 69s 217ms/step - loss: 0.4067 - accuracy: 0.8500 - val_loss: 0.5082 - val_accuracy: 0.8144\n",
            "Epoch 16/50\n",
            "319/319 [==============================] - 69s 217ms/step - loss: 0.3909 - accuracy: 0.8552 - val_loss: 0.5015 - val_accuracy: 0.8196\n",
            "Epoch 17/50\n",
            "319/319 [==============================] - 69s 217ms/step - loss: 0.3835 - accuracy: 0.8589 - val_loss: 0.5943 - val_accuracy: 0.8005\n",
            "Epoch 18/50\n",
            "319/319 [==============================] - 69s 217ms/step - loss: 0.3710 - accuracy: 0.8618 - val_loss: 0.6400 - val_accuracy: 0.7868\n",
            "Epoch 19/50\n",
            "319/319 [==============================] - 69s 217ms/step - loss: 0.3604 - accuracy: 0.8663 - val_loss: 0.5794 - val_accuracy: 0.7824\n",
            "Epoch 20/50\n",
            "319/319 [==============================] - 69s 217ms/step - loss: 0.3441 - accuracy: 0.8718 - val_loss: 0.7611 - val_accuracy: 0.7656\n",
            "Epoch 21/50\n",
            "319/319 [==============================] - 69s 217ms/step - loss: 0.3347 - accuracy: 0.8764 - val_loss: 1.0153 - val_accuracy: 0.7058\n",
            "Epoch 22/50\n",
            "319/319 [==============================] - 69s 217ms/step - loss: 0.3238 - accuracy: 0.8805 - val_loss: 0.4795 - val_accuracy: 0.8235\n",
            "Epoch 23/50\n",
            "319/319 [==============================] - 69s 217ms/step - loss: 0.3107 - accuracy: 0.8852 - val_loss: 0.6835 - val_accuracy: 0.7850\n",
            "Epoch 24/50\n",
            "319/319 [==============================] - 69s 217ms/step - loss: 0.2996 - accuracy: 0.8883 - val_loss: 0.6850 - val_accuracy: 0.7590\n",
            "Epoch 25/50\n",
            "319/319 [==============================] - 69s 217ms/step - loss: 0.2909 - accuracy: 0.8920 - val_loss: 0.5915 - val_accuracy: 0.7993\n",
            "Epoch 26/50\n",
            "319/319 [==============================] - 69s 217ms/step - loss: 0.2747 - accuracy: 0.8987 - val_loss: 0.6218 - val_accuracy: 0.7963\n",
            "Epoch 27/50\n",
            "319/319 [==============================] - 69s 217ms/step - loss: 0.2655 - accuracy: 0.9023 - val_loss: 0.7323 - val_accuracy: 0.7848\n",
            "Epoch 28/50\n",
            "319/319 [==============================] - 69s 217ms/step - loss: 0.2551 - accuracy: 0.9051 - val_loss: 0.4009 - val_accuracy: 0.8602\n",
            "Epoch 29/50\n",
            "319/319 [==============================] - 69s 217ms/step - loss: 0.2425 - accuracy: 0.9124 - val_loss: 0.4555 - val_accuracy: 0.8410\n",
            "Epoch 30/50\n",
            "319/319 [==============================] - 69s 217ms/step - loss: 0.2354 - accuracy: 0.9125 - val_loss: 0.7893 - val_accuracy: 0.7816\n",
            "Epoch 31/50\n",
            "319/319 [==============================] - 69s 217ms/step - loss: 0.2200 - accuracy: 0.9190 - val_loss: 0.4735 - val_accuracy: 0.8503\n",
            "Epoch 32/50\n",
            "319/319 [==============================] - 69s 217ms/step - loss: 0.2083 - accuracy: 0.9236 - val_loss: 0.6149 - val_accuracy: 0.8063\n",
            "Epoch 33/50\n",
            "319/319 [==============================] - 69s 217ms/step - loss: 0.2032 - accuracy: 0.9255 - val_loss: 0.3561 - val_accuracy: 0.8757\n",
            "Epoch 34/50\n",
            "319/319 [==============================] - 69s 217ms/step - loss: 0.1923 - accuracy: 0.9293 - val_loss: 0.6472 - val_accuracy: 0.8246\n",
            "Epoch 35/50\n",
            "319/319 [==============================] - 69s 217ms/step - loss: 0.1808 - accuracy: 0.9345 - val_loss: 0.5670 - val_accuracy: 0.8195\n",
            "Epoch 36/50\n",
            "319/319 [==============================] - 69s 217ms/step - loss: 0.1744 - accuracy: 0.9369 - val_loss: 0.4945 - val_accuracy: 0.8346\n",
            "Epoch 37/50\n",
            "319/319 [==============================] - 69s 217ms/step - loss: 0.1673 - accuracy: 0.9386 - val_loss: 0.4214 - val_accuracy: 0.8647\n",
            "Epoch 38/50\n",
            "319/319 [==============================] - 69s 217ms/step - loss: 0.1594 - accuracy: 0.9424 - val_loss: 0.4142 - val_accuracy: 0.8703\n",
            "Epoch 39/50\n",
            "319/319 [==============================] - 69s 217ms/step - loss: 0.1520 - accuracy: 0.9455 - val_loss: 0.3490 - val_accuracy: 0.8844\n",
            "Epoch 40/50\n",
            "319/319 [==============================] - 69s 217ms/step - loss: 0.1453 - accuracy: 0.9467 - val_loss: 0.6043 - val_accuracy: 0.8128\n",
            "Epoch 41/50\n",
            "319/319 [==============================] - 69s 216ms/step - loss: 0.1392 - accuracy: 0.9500 - val_loss: 0.3169 - val_accuracy: 0.8958\n",
            "Epoch 42/50\n",
            "319/319 [==============================] - 69s 216ms/step - loss: 0.1345 - accuracy: 0.9517 - val_loss: 1.3365 - val_accuracy: 0.7320\n",
            "Epoch 43/50\n",
            "319/319 [==============================] - 69s 217ms/step - loss: 0.1291 - accuracy: 0.9527 - val_loss: 0.4662 - val_accuracy: 0.8662\n",
            "Epoch 44/50\n",
            "319/319 [==============================] - 69s 217ms/step - loss: 0.1241 - accuracy: 0.9556 - val_loss: 0.9313 - val_accuracy: 0.7341\n",
            "Epoch 45/50\n",
            "319/319 [==============================] - 69s 217ms/step - loss: 0.1219 - accuracy: 0.9561 - val_loss: 0.8778 - val_accuracy: 0.7756\n",
            "Epoch 46/50\n",
            "319/319 [==============================] - 69s 217ms/step - loss: 0.1119 - accuracy: 0.9600 - val_loss: 0.7281 - val_accuracy: 0.8289\n",
            "Epoch 47/50\n",
            "319/319 [==============================] - 69s 217ms/step - loss: 0.1115 - accuracy: 0.9599 - val_loss: 0.5912 - val_accuracy: 0.8376\n",
            "Epoch 48/50\n",
            "319/319 [==============================] - 69s 216ms/step - loss: 0.1084 - accuracy: 0.9591 - val_loss: 0.8743 - val_accuracy: 0.8080\n",
            "Epoch 49/50\n",
            "319/319 [==============================] - 69s 217ms/step - loss: 0.0987 - accuracy: 0.9642 - val_loss: 1.2014 - val_accuracy: 0.7612\n",
            "Epoch 50/50\n",
            "319/319 [==============================] - 69s 217ms/step - loss: 0.0976 - accuracy: 0.9658 - val_loss: 0.5419 - val_accuracy: 0.8603\n"
          ]
        }
      ]
    },
    {
      "cell_type": "code",
      "source": [
        "#Learning Rate Annealer Alexnet\n",
        "from keras.callbacks import ReduceLROnPlateau\n",
        "lrr= ReduceLROnPlateau(   monitor='val_accuracy',   factor=.01,   patience=3,  min_lr=1e-5)\n",
        "\n",
        "history = resnet50_model.fit(\n",
        "  resnet50_train_ds,\n",
        "  validation_data=resnet50_val_ds,\n",
        "  epochs=epochs,\n",
        "  callbacks=[lrr],\n",
        "  verbose=1,\n",
        ")"
      ],
      "metadata": {
        "colab": {
          "base_uri": "https://localhost:8080/"
        },
        "id": "0QhkF1cHtPAZ",
        "outputId": "6a476b0f-a28d-43a5-c3f8-e6dbe8fb31de"
      },
      "execution_count": 15,
      "outputs": [
        {
          "output_type": "stream",
          "name": "stdout",
          "text": [
            "Epoch 1/50\n",
            "319/319 [==============================] - 69s 217ms/step - loss: 0.0944 - accuracy: 0.9662 - val_loss: 0.2915 - val_accuracy: 0.9088 - lr: 0.0010\n",
            "Epoch 2/50\n",
            "319/319 [==============================] - 69s 216ms/step - loss: 0.0911 - accuracy: 0.9679 - val_loss: 1.2430 - val_accuracy: 0.7433 - lr: 0.0010\n",
            "Epoch 3/50\n",
            "319/319 [==============================] - 69s 216ms/step - loss: 0.0925 - accuracy: 0.9667 - val_loss: 0.3265 - val_accuracy: 0.8978 - lr: 0.0010\n",
            "Epoch 4/50\n",
            "319/319 [==============================] - 69s 217ms/step - loss: 0.0875 - accuracy: 0.9692 - val_loss: 1.4561 - val_accuracy: 0.7527 - lr: 0.0010\n",
            "Epoch 5/50\n",
            "319/319 [==============================] - 69s 217ms/step - loss: 0.0691 - accuracy: 0.9770 - val_loss: 0.0991 - val_accuracy: 0.9659 - lr: 1.0000e-05\n",
            "Epoch 6/50\n",
            "319/319 [==============================] - 69s 217ms/step - loss: 0.0594 - accuracy: 0.9804 - val_loss: 0.0958 - val_accuracy: 0.9677 - lr: 1.0000e-05\n",
            "Epoch 7/50\n",
            "319/319 [==============================] - 69s 217ms/step - loss: 0.0545 - accuracy: 0.9822 - val_loss: 0.0855 - val_accuracy: 0.9731 - lr: 1.0000e-05\n",
            "Epoch 8/50\n",
            "319/319 [==============================] - 69s 217ms/step - loss: 0.0517 - accuracy: 0.9829 - val_loss: 0.0842 - val_accuracy: 0.9733 - lr: 1.0000e-05\n",
            "Epoch 9/50\n",
            "319/319 [==============================] - 69s 217ms/step - loss: 0.0466 - accuracy: 0.9853 - val_loss: 0.0831 - val_accuracy: 0.9733 - lr: 1.0000e-05\n",
            "Epoch 10/50\n",
            "319/319 [==============================] - 69s 216ms/step - loss: 0.0455 - accuracy: 0.9858 - val_loss: 0.0770 - val_accuracy: 0.9747 - lr: 1.0000e-05\n",
            "Epoch 11/50\n",
            "319/319 [==============================] - 69s 217ms/step - loss: 0.0439 - accuracy: 0.9856 - val_loss: 0.0754 - val_accuracy: 0.9751 - lr: 1.0000e-05\n",
            "Epoch 12/50\n",
            "319/319 [==============================] - 69s 217ms/step - loss: 0.0415 - accuracy: 0.9869 - val_loss: 0.0803 - val_accuracy: 0.9735 - lr: 1.0000e-05\n",
            "Epoch 13/50\n",
            "319/319 [==============================] - 69s 217ms/step - loss: 0.0395 - accuracy: 0.9878 - val_loss: 0.0729 - val_accuracy: 0.9761 - lr: 1.0000e-05\n",
            "Epoch 14/50\n",
            "319/319 [==============================] - 69s 217ms/step - loss: 0.0382 - accuracy: 0.9887 - val_loss: 0.0730 - val_accuracy: 0.9761 - lr: 1.0000e-05\n",
            "Epoch 15/50\n",
            "319/319 [==============================] - 69s 217ms/step - loss: 0.0367 - accuracy: 0.9888 - val_loss: 0.0666 - val_accuracy: 0.9779 - lr: 1.0000e-05\n",
            "Epoch 16/50\n",
            "319/319 [==============================] - 69s 217ms/step - loss: 0.0367 - accuracy: 0.9885 - val_loss: 0.0740 - val_accuracy: 0.9748 - lr: 1.0000e-05\n",
            "Epoch 17/50\n",
            "319/319 [==============================] - 69s 216ms/step - loss: 0.0346 - accuracy: 0.9892 - val_loss: 0.0710 - val_accuracy: 0.9767 - lr: 1.0000e-05\n",
            "Epoch 18/50\n",
            "319/319 [==============================] - 69s 217ms/step - loss: 0.0338 - accuracy: 0.9897 - val_loss: 0.0716 - val_accuracy: 0.9766 - lr: 1.0000e-05\n",
            "Epoch 19/50\n",
            "319/319 [==============================] - 69s 217ms/step - loss: 0.0345 - accuracy: 0.9894 - val_loss: 0.0702 - val_accuracy: 0.9770 - lr: 1.0000e-05\n",
            "Epoch 20/50\n",
            "319/319 [==============================] - 69s 216ms/step - loss: 0.0336 - accuracy: 0.9900 - val_loss: 0.0688 - val_accuracy: 0.9774 - lr: 1.0000e-05\n",
            "Epoch 21/50\n",
            "319/319 [==============================] - 69s 217ms/step - loss: 0.0301 - accuracy: 0.9911 - val_loss: 0.0663 - val_accuracy: 0.9774 - lr: 1.0000e-05\n",
            "Epoch 22/50\n",
            "319/319 [==============================] - 69s 217ms/step - loss: 0.0312 - accuracy: 0.9908 - val_loss: 0.0634 - val_accuracy: 0.9795 - lr: 1.0000e-05\n",
            "Epoch 23/50\n",
            "319/319 [==============================] - 69s 216ms/step - loss: 0.0296 - accuracy: 0.9907 - val_loss: 0.0681 - val_accuracy: 0.9776 - lr: 1.0000e-05\n",
            "Epoch 24/50\n",
            "319/319 [==============================] - 69s 217ms/step - loss: 0.0277 - accuracy: 0.9918 - val_loss: 0.0660 - val_accuracy: 0.9786 - lr: 1.0000e-05\n",
            "Epoch 25/50\n",
            "319/319 [==============================] - 69s 216ms/step - loss: 0.0284 - accuracy: 0.9913 - val_loss: 0.0675 - val_accuracy: 0.9781 - lr: 1.0000e-05\n",
            "Epoch 26/50\n",
            "319/319 [==============================] - 69s 217ms/step - loss: 0.0276 - accuracy: 0.9917 - val_loss: 0.0632 - val_accuracy: 0.9800 - lr: 1.0000e-05\n",
            "Epoch 27/50\n",
            "319/319 [==============================] - 69s 216ms/step - loss: 0.0272 - accuracy: 0.9917 - val_loss: 0.0658 - val_accuracy: 0.9784 - lr: 1.0000e-05\n",
            "Epoch 28/50\n",
            "319/319 [==============================] - 69s 216ms/step - loss: 0.0266 - accuracy: 0.9921 - val_loss: 0.0644 - val_accuracy: 0.9794 - lr: 1.0000e-05\n",
            "Epoch 29/50\n",
            "319/319 [==============================] - 69s 217ms/step - loss: 0.0260 - accuracy: 0.9917 - val_loss: 0.0622 - val_accuracy: 0.9797 - lr: 1.0000e-05\n",
            "Epoch 30/50\n",
            "319/319 [==============================] - 69s 216ms/step - loss: 0.0255 - accuracy: 0.9925 - val_loss: 0.0671 - val_accuracy: 0.9779 - lr: 1.0000e-05\n",
            "Epoch 31/50\n",
            "319/319 [==============================] - 69s 217ms/step - loss: 0.0252 - accuracy: 0.9926 - val_loss: 0.0728 - val_accuracy: 0.9767 - lr: 1.0000e-05\n",
            "Epoch 32/50\n",
            "319/319 [==============================] - 69s 217ms/step - loss: 0.0250 - accuracy: 0.9925 - val_loss: 0.0631 - val_accuracy: 0.9790 - lr: 1.0000e-05\n",
            "Epoch 33/50\n",
            "319/319 [==============================] - 69s 217ms/step - loss: 0.0232 - accuracy: 0.9935 - val_loss: 0.0635 - val_accuracy: 0.9792 - lr: 1.0000e-05\n",
            "Epoch 34/50\n",
            "319/319 [==============================] - 69s 217ms/step - loss: 0.0243 - accuracy: 0.9928 - val_loss: 0.0635 - val_accuracy: 0.9791 - lr: 1.0000e-05\n",
            "Epoch 35/50\n",
            "319/319 [==============================] - 69s 217ms/step - loss: 0.0241 - accuracy: 0.9925 - val_loss: 0.0624 - val_accuracy: 0.9801 - lr: 1.0000e-05\n",
            "Epoch 36/50\n",
            "319/319 [==============================] - 69s 217ms/step - loss: 0.0232 - accuracy: 0.9931 - val_loss: 0.0625 - val_accuracy: 0.9798 - lr: 1.0000e-05\n",
            "Epoch 37/50\n",
            "319/319 [==============================] - 69s 217ms/step - loss: 0.0224 - accuracy: 0.9934 - val_loss: 0.0611 - val_accuracy: 0.9799 - lr: 1.0000e-05\n",
            "Epoch 38/50\n",
            "319/319 [==============================] - 69s 217ms/step - loss: 0.0219 - accuracy: 0.9930 - val_loss: 0.0623 - val_accuracy: 0.9797 - lr: 1.0000e-05\n",
            "Epoch 39/50\n",
            "319/319 [==============================] - 69s 217ms/step - loss: 0.0235 - accuracy: 0.9930 - val_loss: 0.0647 - val_accuracy: 0.9794 - lr: 1.0000e-05\n",
            "Epoch 40/50\n",
            "319/319 [==============================] - 69s 217ms/step - loss: 0.0220 - accuracy: 0.9931 - val_loss: 0.0635 - val_accuracy: 0.9795 - lr: 1.0000e-05\n",
            "Epoch 41/50\n",
            "319/319 [==============================] - 69s 217ms/step - loss: 0.0215 - accuracy: 0.9937 - val_loss: 0.0669 - val_accuracy: 0.9787 - lr: 1.0000e-05\n",
            "Epoch 42/50\n",
            "319/319 [==============================] - 69s 217ms/step - loss: 0.0219 - accuracy: 0.9936 - val_loss: 0.0583 - val_accuracy: 0.9814 - lr: 1.0000e-05\n",
            "Epoch 43/50\n",
            "319/319 [==============================] - 69s 217ms/step - loss: 0.0215 - accuracy: 0.9935 - val_loss: 0.0543 - val_accuracy: 0.9822 - lr: 1.0000e-05\n",
            "Epoch 44/50\n",
            "319/319 [==============================] - 69s 217ms/step - loss: 0.0204 - accuracy: 0.9940 - val_loss: 0.0566 - val_accuracy: 0.9819 - lr: 1.0000e-05\n",
            "Epoch 45/50\n",
            "319/319 [==============================] - 69s 217ms/step - loss: 0.0199 - accuracy: 0.9945 - val_loss: 0.0574 - val_accuracy: 0.9813 - lr: 1.0000e-05\n",
            "Epoch 46/50\n",
            "319/319 [==============================] - 69s 217ms/step - loss: 0.0210 - accuracy: 0.9940 - val_loss: 0.0634 - val_accuracy: 0.9800 - lr: 1.0000e-05\n",
            "Epoch 47/50\n",
            "319/319 [==============================] - 69s 217ms/step - loss: 0.0202 - accuracy: 0.9939 - val_loss: 0.0522 - val_accuracy: 0.9828 - lr: 1.0000e-05\n",
            "Epoch 48/50\n",
            "319/319 [==============================] - 69s 217ms/step - loss: 0.0184 - accuracy: 0.9953 - val_loss: 0.0632 - val_accuracy: 0.9797 - lr: 1.0000e-05\n",
            "Epoch 49/50\n",
            "319/319 [==============================] - 69s 217ms/step - loss: 0.0195 - accuracy: 0.9945 - val_loss: 0.0616 - val_accuracy: 0.9800 - lr: 1.0000e-05\n",
            "Epoch 50/50\n",
            "319/319 [==============================] - 69s 217ms/step - loss: 0.0186 - accuracy: 0.9948 - val_loss: 0.0587 - val_accuracy: 0.9813 - lr: 1.0000e-05\n"
          ]
        }
      ]
    },
    {
      "cell_type": "code",
      "source": [
        "resnet50_loss, resnet50_acc = resnet50_model.evaluate(resnet50_test_ds)"
      ],
      "metadata": {
        "colab": {
          "base_uri": "https://localhost:8080/"
        },
        "id": "rYlWdmwt6fnq",
        "outputId": "fbc86f9b-1f95-4fd1-87e8-2ad62ca3686b"
      },
      "execution_count": 16,
      "outputs": [
        {
          "output_type": "stream",
          "name": "stdout",
          "text": [
            "319/319 [==============================] - 195s 597ms/step - loss: 0.0592 - accuracy: 0.9807\n"
          ]
        }
      ]
    },
    {
      "cell_type": "code",
      "source": [
        "resnet50_y_pred=np.argmax(resnet50_model.predict(resnet50_test_img), axis=-1)\n",
        "resnet50_con_mat = tf.math.confusion_matrix(labels=resnet50_test_labels, predictions=resnet50_y_pred).numpy()\n",
        "\n",
        "resnet50_con_mat_norm = np.around(resnet50_con_mat.astype('float') / resnet50_con_mat.sum(axis=1)[:, np.newaxis], decimals=2)\n",
        "\n",
        "resnet50_con_mat_df = pd.DataFrame(resnet50_con_mat_norm,\n",
        "                     index = class_names,\n",
        "                     columns = class_names)\n",
        "\n",
        "figure = plt.figure(figsize=(10, 10))\n",
        "sns.heatmap(resnet50_con_mat_df, annot=True,cmap=plt.cm.Blues)\n",
        "plt.tight_layout()\n",
        "plt.ylabel('True label')\n",
        "plt.xlabel('Predicted label')\n",
        "plt.show()"
      ],
      "metadata": {
        "colab": {
          "base_uri": "https://localhost:8080/",
          "height": 1000
        },
        "id": "qWeAYt7D7VBY",
        "outputId": "891abaf8-2e71-46e6-854a-c09d1d72f89e"
      },
      "execution_count": 17,
      "outputs": [
        {
          "output_type": "stream",
          "name": "stdout",
          "text": [
            "5/5 [==============================] - 2s 138ms/step\n"
          ]
        },
        {
          "output_type": "display_data",
          "data": {
            "text/plain": [
              "<Figure size 1000x1000 with 2 Axes>"
            ],
            "image/png": "[encoded data removed]"
          },
          "metadata": {}
        }
      ]
    },
    {
      "cell_type": "code",
      "source": [
        "resnet50_y_pred = resnet50_model.predict(resnet50_test_ds)\n",
        "resnet50_predicted_categories = np.argmax(resnet50_y_pred, axis = 1)\n",
        "\n",
        "resnet50_true_categories = tf.concat([y for x, y in resnet50_test_ds], axis = 0).numpy() # convert to np array\n",
        "\n",
        "print(classification_report(resnet50_true_categories, resnet50_predicted_categories))"
      ],
      "metadata": {
        "colab": {
          "base_uri": "https://localhost:8080/"
        },
        "id": "AtZXucx57cXJ",
        "outputId": "86e87be3-2d67-48b0-a85e-626fcd81a7ad"
      },
      "execution_count": 18,
      "outputs": [
        {
          "output_type": "stream",
          "name": "stdout",
          "text": [
            "319/319 [==============================] - 18s 53ms/step\n",
            "              precision    recall  f1-score   support\n",
            "\n",
            "           0       0.99      0.97      0.98      4767\n",
            "           1       0.96      0.94      0.95      7226\n",
            "           2       0.99      0.99      0.99     32614\n",
            "           3       0.94      0.96      0.95      1905\n",
            "           4       0.97      0.93      0.95      1301\n",
            "\n",
            "    accuracy                           0.98     47813\n",
            "   macro avg       0.97      0.96      0.96     47813\n",
            "weighted avg       0.98      0.98      0.98     47813\n",
            "\n"
          ]
        }
      ]
    }
  ]
}